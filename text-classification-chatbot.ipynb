{
 "cells": [
  {
   "cell_type": "markdown",
   "metadata": {},
   "source": [
    "# Chat bot based on Text Classification using NLP Algorithm."
   ]
  },
  {
   "cell_type": "markdown",
   "metadata": {},
   "source": [
    "Human language is surprisingly complicated and varied. We sometimes misspell or abbreviate terms when we speak, or omit punctuation. Around us there is a lot of unstructured data. \n",
    "\n",
    "Natural language processing helps computers interact in their own language with humans and scales other functions related to language. NLP, for instance, enables computers to read text, interpret it, determine sentiment, and decide which aspects are significant.\n",
    "\n",
    "Understanding this will allow you to construct the core component of any chatbot for conversation. The main engine of a conversational chatbot is this."
   ]
  },
  {
   "cell_type": "markdown",
   "metadata": {},
   "source": [
    "A core aspect of Natural Language Processing is identifying patterns. Words ending in -ed appear to be tense verbs from the past. The repeated use of will means that the news text is (3). These measurable patterns, word structure and word frequency, correlate with specific aspects of context, such as tense and subject matter.\n",
    "But how did we understand where to start searching, which elements of form to apply to which elements of meaning? We will learn to generate the core engine of a chat bot in this series. Using the techniques of natural language processing, we can learn text classification.\n"
   ]
  },
  {
   "cell_type": "markdown",
   "metadata": {},
   "source": [
    "More generally, we are interested in taking some predetermined body of text and performing some fundamental analysis and transformations on it in order to be left with objects that will be much more useful for subsequently performing some more important analytical task. Our main text mining or natural language processing job will be this further assignment.\n",
    "\n",
    "So, as mentioned above, it seems as though there are 3 main components of text preprocessing:\n",
    "\n",
    "--tokenization\n",
    "--normalization\n",
    "--subsitution\n",
    "As we lay out a framework for approaching preprocessing, we should keep these concepts in mind."
   ]
  },
  {
   "cell_type": "markdown",
   "metadata": {},
   "source": [
    "# Import useful libraries"
   ]
  },
  {
   "cell_type": "code",
   "execution_count": 1,
   "metadata": {},
   "outputs": [],
   "source": [
    "import nltk"
   ]
  },
  {
   "cell_type": "markdown",
   "metadata": {},
   "source": [
    "### Install NLTK components:\n",
    "    \n",
    "nltk.download_gui()\n",
    "\n",
    "#The below command will open a GUI\n",
    "Select the below mentioned packages:\n",
    "\n",
    "    stopwords from Corpa\n",
    "    averaged_perceptron_tagger from All corpus\n",
    "    wordnet\n",
    "    \n",
    "OR you can download all the nltk components by:\n",
    "    nltk.download()\n",
    "    \n",
    "Please Note: If you decide to download all the nlkt components,it will take much time (20-60mins depending on Internet speed)"
   ]
  },
  {
   "cell_type": "code",
   "execution_count": 2,
   "metadata": {},
   "outputs": [
    {
     "name": "stdout",
     "output_type": "stream",
     "text": [
      "showing info https://raw.githubusercontent.com/nltk/nltk_data/gh-pages/index.xml\n"
     ]
    },
    {
     "data": {
      "text/plain": [
       "True"
      ]
     },
     "execution_count": 2,
     "metadata": {},
     "output_type": "execute_result"
    }
   ],
   "source": [
    "nltk.download()"
   ]
  },
  {
   "cell_type": "code",
   "execution_count": 3,
   "metadata": {},
   "outputs": [],
   "source": [
    "#Importing required dependencies and files for the project\n",
    "import re\n",
    "import os\n",
    "import csv\n",
    "from nltk.stem.snowball import SnowballStemmer\n",
    "import random\n",
    "from nltk.classify import SklearnClassifier\n",
    "from nltk.tokenize import RegexpTokenizer\n",
    "from nltk.corpus import stopwords\n",
    "from nltk.stem.wordnet import WordNetLemmatizer\n",
    "import numpy as np\n",
    "\n",
    "import pandas as pd"
   ]
  },
  {
   "cell_type": "code",
   "execution_count": 4,
   "metadata": {},
   "outputs": [],
   "source": [
    "## Get multiple outputs in the same cell\n",
    "from IPython.core.interactiveshell import InteractiveShell\n",
    "InteractiveShell.ast_node_interactivity = \"all\" \n",
    "\n",
    "## Ignore all warnings \n",
    "import warnings\n",
    "warnings.filterwarnings('ignore')\n",
    "warnings.filterwarnings(action='ignore', category=DeprecationWarning)"
   ]
  },
  {
   "cell_type": "code",
   "execution_count": 5,
   "metadata": {},
   "outputs": [],
   "source": [
    "## Display all rows and columns of a dataframe instead of a truncated version\n",
    "from IPython.display import display\n",
    "pd.set_option('display.max_columns', None)\n",
    "pd.set_option('display.max_rows', None)"
   ]
  },
  {
   "cell_type": "markdown",
   "metadata": {},
   "source": [
    "## Preprocess"
   ]
  },
  {
   "cell_type": "markdown",
   "metadata": {},
   "source": [
    "Instead of Using the entire data, to understand, we use examples for pre processing:"
   ]
  },
  {
   "cell_type": "code",
   "execution_count": 6,
   "metadata": {},
   "outputs": [],
   "source": [
    "sentence = \"The Big brown fox jumped over a lazy dog.\"\n",
    "sentence2 = \"What couses does Prof Sundeep Rangan teaches and how can I contact him ?\""
   ]
  },
  {
   "cell_type": "code",
   "execution_count": 7,
   "metadata": {},
   "outputs": [
    {
     "data": {
      "text/plain": [
       "False"
      ]
     },
     "execution_count": 7,
     "metadata": {},
     "output_type": "execute_result"
    },
    {
     "name": "stdout",
     "output_type": "stream",
     "text": [
      "abcdefgh\n"
     ]
    },
    {
     "data": {
      "text/plain": [
       "'the big brown fox jumped over a lazy dog.'"
      ]
     },
     "execution_count": 7,
     "metadata": {},
     "output_type": "execute_result"
    },
    {
     "data": {
      "text/plain": [
       "'what couses does prof sundeep rangan teaches and how can i contact him ?'"
      ]
     },
     "execution_count": 7,
     "metadata": {},
     "output_type": "execute_result"
    }
   ],
   "source": [
    "#convert sentence to lower case\n",
    "'This' == 'this'\n",
    "print('AbcdEFgH'.lower())\n",
    "sentence.lower()\n",
    "sentence2.lower()"
   ]
  },
  {
   "cell_type": "markdown",
   "metadata": {},
   "source": [
    "### Tokenize - extract individual words"
   ]
  },
  {
   "cell_type": "markdown",
   "metadata": {},
   "source": [
    "Tokenization is a process to convert chunk of data into smaller units called tokens. They can be words or sub/split words. They can also be tokenized based on characters. It essentially creates a vocabulary."
   ]
  },
  {
   "cell_type": "code",
   "execution_count": 8,
   "metadata": {},
   "outputs": [
    {
     "data": {
      "text/plain": [
       "['The', 'Big', 'brown', 'fox', 'jumped', 'over', 'a', 'lazy', 'dog']"
      ]
     },
     "execution_count": 8,
     "metadata": {},
     "output_type": "execute_result"
    },
    {
     "data": {
      "text/plain": [
       "['What',\n",
       " 'couses',\n",
       " 'does',\n",
       " 'Prof',\n",
       " 'Sundeep',\n",
       " 'Rangan',\n",
       " 'teaches',\n",
       " 'and',\n",
       " 'how',\n",
       " 'can',\n",
       " 'I',\n",
       " 'contact',\n",
       " 'him']"
      ]
     },
     "execution_count": 8,
     "metadata": {},
     "output_type": "execute_result"
    }
   ],
   "source": [
    "tokenizer = RegexpTokenizer(r'\\w+')  #give some regular expression\n",
    "tokens = tokenizer.tokenize(sentence)\n",
    "tokens\n",
    "tokens2 = tokenizer.tokenize(sentence2)\n",
    "tokens2"
   ]
  },
  {
   "cell_type": "markdown",
   "metadata": {},
   "source": [
    "### Stopwords : Filter words to remove non-useful words"
   ]
  },
  {
   "cell_type": "raw",
   "metadata": {},
   "source": [
    "# This is a technique as the name suggests, to fiter non useful words."
   ]
  },
  {
   "cell_type": "code",
   "execution_count": 9,
   "metadata": {},
   "outputs": [
    {
     "data": {
      "text/plain": [
       "['The', 'Big', 'brown', 'fox', 'jumped', 'lazy', 'dog']"
      ]
     },
     "execution_count": 9,
     "metadata": {},
     "output_type": "execute_result"
    }
   ],
   "source": [
    "filtered_words = [w for w in tokens if not w in stopwords.words('english')]\n",
    "filtered_words"
   ]
  },
  {
   "cell_type": "code",
   "execution_count": 10,
   "metadata": {},
   "outputs": [
    {
     "data": {
      "text/plain": [
       "['What', 'couses', 'Prof', 'Sundeep', 'Rangan', 'teaches', 'I', 'contact']"
      ]
     },
     "execution_count": 10,
     "metadata": {},
     "output_type": "execute_result"
    }
   ],
   "source": [
    "filtered_words = [w for w in tokens2 if not w in stopwords.words('english')]\n",
    "filtered_words"
   ]
  },
  {
   "cell_type": "code",
   "execution_count": 11,
   "metadata": {},
   "outputs": [],
   "source": [
    "def preprocess(sentence):\n",
    "    sentence = sentence.lower()\n",
    "    tokenizer = RegexpTokenizer(r'\\w+')\n",
    "    tokens = tokenizer.tokenize(sentence)\n",
    "    filtered_words = [w for w in tokens if not w in stopwords.words('english')]\n",
    "    return filtered_words"
   ]
  },
  {
   "cell_type": "code",
   "execution_count": 12,
   "metadata": {},
   "outputs": [
    {
     "name": "stdout",
     "output_type": "stream",
     "text": [
      "['big', 'brown', 'fox', 'jumped', 'lazy', 'dog']\n"
     ]
    }
   ],
   "source": [
    "preprocessed_sentence = preprocess(sentence)\n",
    "print(preprocessed_sentence)"
   ]
  },
  {
   "cell_type": "code",
   "execution_count": 13,
   "metadata": {},
   "outputs": [
    {
     "data": {
      "text/plain": [
       "['couses', 'prof', 'sundeep', 'rangan', 'teaches', 'contact']"
      ]
     },
     "execution_count": 13,
     "metadata": {},
     "output_type": "execute_result"
    }
   ],
   "source": [
    "preprocess(sentence2)"
   ]
  },
  {
   "cell_type": "markdown",
   "metadata": {},
   "source": [
    "## Tagging"
   ]
  },
  {
   "cell_type": "markdown",
   "metadata": {},
   "source": [
    "Process of Classifying words into their Parts of Speech(POS) and labelling them accordingly. Also known as pos tagging. NLTK has a function which is used. Example List of POS tags is shown below:"
   ]
  },
  {
   "cell_type": "code",
   "execution_count": 14,
   "metadata": {},
   "outputs": [
    {
     "name": "stdout",
     "output_type": "stream",
     "text": [
      "[('big', 'JJ'), ('brown', 'NN'), ('fox', 'NN'), ('jumped', 'VBD'), ('lazy', 'JJ'), ('dog', 'NN')]\n"
     ]
    }
   ],
   "source": [
    "tags = nltk.pos_tag(preprocessed_sentence)\n",
    "print(tags)"
   ]
  },
  {
   "cell_type": "code",
   "execution_count": 15,
   "metadata": {},
   "outputs": [
    {
     "name": "stdout",
     "output_type": "stream",
     "text": [
      "[('couses', 'NNS'), ('prof', 'VBP'), ('sundeep', 'JJ'), ('rangan', 'NN'), ('teaches', 'NNS'), ('contact', 'NN')]\n"
     ]
    }
   ],
   "source": [
    "tags = nltk.pos_tag(preprocess(sentence2))\n",
    "print(tags)"
   ]
  },
  {
   "cell_type": "markdown",
   "metadata": {},
   "source": [
    "## Extracting only Nouns and Verb nouns"
   ]
  },
  {
   "cell_type": "raw",
   "metadata": {},
   "source": [
    "POS tag list:\n",
    "\n",
    "CC coordinating conjunction\n",
    "CD cardinal digit\n",
    "DT determiner\n",
    "EX existential there (like: \"there is\" ... think of it like \"there exists\")\n",
    "FW foreign word\n",
    "IN preposition/subordinating conjunction\n",
    "JJ adjective 'big'\n",
    "JJR adjective, comparative 'bigger'\n",
    "JJS adjective, superlative 'biggest'\n",
    "LS list marker 1)\n",
    "MD modal could, will\n",
    "NN noun, singular 'desk'\n",
    "NNS noun plural 'desks'\n",
    "NNP proper noun, singular 'Harrison'\n",
    "NNPS proper noun, plural 'Americans'\n",
    "PDT predeterminer 'all the kids'\n",
    "POS possessive ending parent's\n",
    "PRP personal pronoun I, he, she\n",
    "PRP$ possessive pronoun my, his, hers\n",
    "RB adverb very, silently,\n",
    "RBR adverb, comparative better\n",
    "RBS adverb, superlative best\n",
    "RP particle give up\n",
    "TO to go 'to' the store.\n",
    "UH interjection errrrrrrrm\n",
    "VB verb, base form take\n",
    "VBD verb, past tense took\n",
    "VBG verb, gerund/present participle taking\n",
    "VBN verb, past participle taken\n",
    "VBP verb, sing. present, non-3d take\n",
    "VBZ verb, 3rd person sing. present takes\n",
    "WDT wh-determiner which\n",
    "WP wh-pronoun who, what\n",
    "WP$ possessive wh-pronoun whose\n",
    "WRB wh-abverb where, when"
   ]
  },
  {
   "cell_type": "code",
   "execution_count": 16,
   "metadata": {},
   "outputs": [],
   "source": [
    "def extract_tagged(sentences):\n",
    "    features = []\n",
    "    for tagged_word in sentences:\n",
    "        word, tag = tagged_word\n",
    "        if tag=='NN' or tag == 'VBN' or tag == 'NNS' or tag == 'VBP' or tag == 'RB' or tag == 'VBZ' or tag == 'VBG' or tag =='PRP' or tag == 'JJ':\n",
    "            features.append(word)\n",
    "    return features"
   ]
  },
  {
   "cell_type": "code",
   "execution_count": 17,
   "metadata": {},
   "outputs": [
    {
     "data": {
      "text/plain": [
       "['couses', 'prof', 'sundeep', 'rangan', 'teaches', 'contact']"
      ]
     },
     "execution_count": 17,
     "metadata": {},
     "output_type": "execute_result"
    }
   ],
   "source": [
    "extract_tagged(tags)"
   ]
  },
  {
   "cell_type": "markdown",
   "metadata": {},
   "source": [
    "## Lemmatize words"
   ]
  },
  {
   "cell_type": "markdown",
   "metadata": {},
   "source": [
    "Process of Grouping together, different inflicted forms of word to be analysed as a single item, bringing more context to words."
   ]
  },
  {
   "cell_type": "code",
   "execution_count": 18,
   "metadata": {},
   "outputs": [
    {
     "name": "stdout",
     "output_type": "stream",
     "text": [
      "cactus\n",
      "willing\n",
      "foot\n",
      "stemmed\n",
      "cactus\n"
     ]
    }
   ],
   "source": [
    "lmtzr = WordNetLemmatizer()\n",
    "print(lmtzr.lemmatize('cacti'))\n",
    "print(lmtzr.lemmatize('willing'))\n",
    "print(lmtzr.lemmatize('feet'))\n",
    "print(lmtzr.lemmatize('stemmed'))\n",
    "\n",
    "print(lmtzr.lemmatize('cactus'))"
   ]
  },
  {
   "cell_type": "markdown",
   "metadata": {},
   "source": [
    "## Stem words"
   ]
  },
  {
   "cell_type": "markdown",
   "metadata": {},
   "source": [
    "Stemming is a kind of normalization of words. Words having similar meaning having variations, according to context, are normalized."
   ]
  },
  {
   "cell_type": "code",
   "execution_count": 19,
   "metadata": {},
   "outputs": [],
   "source": [
    "words_for_stemming = ['stem', 'stemming', 'stemmed', 'stemmer', 'stems','feet','willing']"
   ]
  },
  {
   "cell_type": "code",
   "execution_count": 20,
   "metadata": {},
   "outputs": [
    {
     "data": {
      "text/plain": [
       "['stem', 'stem', 'stem', 'stemmer', 'stem', 'feet', 'will']"
      ]
     },
     "execution_count": 20,
     "metadata": {},
     "output_type": "execute_result"
    }
   ],
   "source": [
    "stemmer = SnowballStemmer(\"english\")\n",
    "[stemmer.stem(x) for x in words_for_stemming]"
   ]
  },
  {
   "cell_type": "markdown",
   "metadata": {},
   "source": [
    "## Putting it all together"
   ]
  },
  {
   "cell_type": "markdown",
   "metadata": {},
   "source": [
    "Creating a function threading everything together, which gives us our final output. Print statements are commented out as we want only final output. If you want to know details of each step, you can uncomment them to display the process in step."
   ]
  },
  {
   "cell_type": "code",
   "execution_count": 21,
   "metadata": {},
   "outputs": [],
   "source": [
    "def extract_feature(text):\n",
    "    words = preprocess(text)\n",
    "#     print('words: ',words)\n",
    "    tags = nltk.pos_tag(words)\n",
    "#     print('tags: ',tags)\n",
    "    extracted_features = extract_tagged(tags)\n",
    "#     print('Extracted features: ',extracted_features)\n",
    "    stemmed_words = [stemmer.stem(x) for x in extracted_features]\n",
    "#     print(stemmed_words)\n",
    "\n",
    "    result = [lmtzr.lemmatize(x) for x in stemmed_words]\n",
    "   \n",
    "    return result"
   ]
  },
  {
   "cell_type": "code",
   "execution_count": 22,
   "metadata": {},
   "outputs": [
    {
     "name": "stdout",
     "output_type": "stream",
     "text": [
      "['big', 'brown', 'fox', 'lazi', 'dog']\n"
     ]
    }
   ],
   "source": [
    "words = extract_feature(sentence)\n",
    "print(words)"
   ]
  },
  {
   "cell_type": "code",
   "execution_count": 23,
   "metadata": {},
   "outputs": [
    {
     "name": "stdout",
     "output_type": "stream",
     "text": [
      "['cous', 'prof', 'sundeep', 'rangan', 'teach', 'contact']\n"
     ]
    }
   ],
   "source": [
    "words = extract_feature(sentence2)\n",
    "print(words)"
   ]
  },
  {
   "cell_type": "markdown",
   "metadata": {},
   "source": [
    "## Implementing bag of words"
   ]
  },
  {
   "cell_type": "markdown",
   "metadata": {},
   "source": [
    "In simple terms, it’s a collection of words to represent a sentence, disregarding the order in which they appear."
   ]
  },
  {
   "cell_type": "code",
   "execution_count": 24,
   "metadata": {},
   "outputs": [],
   "source": [
    "def word_feats(words):\n",
    "    return dict([(word, True) for word in words])"
   ]
  },
  {
   "cell_type": "code",
   "execution_count": 25,
   "metadata": {},
   "outputs": [
    {
     "data": {
      "text/plain": [
       "{'cous': True,\n",
       " 'prof': True,\n",
       " 'sundeep': True,\n",
       " 'rangan': True,\n",
       " 'teach': True,\n",
       " 'contact': True}"
      ]
     },
     "execution_count": 25,
     "metadata": {},
     "output_type": "execute_result"
    }
   ],
   "source": [
    "word_feats(words)"
   ]
  },
  {
   "cell_type": "markdown",
   "metadata": {},
   "source": [
    "## Parsing the whole document"
   ]
  },
  {
   "cell_type": "markdown",
   "metadata": {},
   "source": [
    "Parsing a document for our purpose which is NYU-ECE department specific function. For that, a chatbot engine is required, whic used the data. We need to curate the data in a particular manner. As it is a chatbot, it will be a ques-ans format having questions categorised.\n",
    "Hence this format is used:\n",
    "\"this is the input text from the user','category','answer to give\"\n",
    "You can check the data.txt file to check the data format. The seperation of data type is done using pipe symbol '|'."
   ]
  },
  {
   "cell_type": "code",
   "execution_count": 26,
   "metadata": {},
   "outputs": [],
   "source": [
    "def extract_feature_from_doc(data):\n",
    "    result = []\n",
    "    corpus = []\n",
    "    # The responses of the chat bot\n",
    "    answers = {}\n",
    "    for (text,category,answer) in data:\n",
    "\n",
    "        features = extract_feature(text)\n",
    "\n",
    "        corpus.append(features)\n",
    "        result.append((word_feats(features), category))\n",
    "        answers[category] = answer\n",
    "\n",
    "    return (result, sum(corpus,[]), answers)"
   ]
  },
  {
   "cell_type": "code",
   "execution_count": 27,
   "metadata": {},
   "outputs": [
    {
     "data": {
      "text/plain": [
       "([({'input': True, 'user': True}, 'category')],\n",
       " ['input', 'user'],\n",
       " {'category': 'answer to give'})"
      ]
     },
     "execution_count": 27,
     "metadata": {},
     "output_type": "execute_result"
    }
   ],
   "source": [
    "extract_feature_from_doc([['this is the input text from the user','category','answer to give']])"
   ]
  },
  {
   "cell_type": "code",
   "execution_count": 28,
   "metadata": {},
   "outputs": [],
   "source": [
    "def get_content(filename):\n",
    "    doc = os.path.join(filename)\n",
    "    with open(doc, 'r') as content_file:\n",
    "        lines = csv.reader(content_file,delimiter='|')\n",
    "        data = [x for x in lines if len(x) == 3]\n",
    "        return data"
   ]
  },
  {
   "cell_type": "markdown",
   "metadata": {},
   "source": [
    "Chatbot Name: BobCat ==> Official Mascot of NYU.\n",
    "For demonstration purpose, only a certain type of NYU-ECE department data has been added. It has basic structure:\n",
    "\n",
    "            -- Greetings Remarks\n",
    "            \n",
    "            -- Morning,\n",
    "            \n",
    "            -- Afternoon,\n",
    "            \n",
    "            --Evening,\n",
    "            \n",
    "            --Opening Remarks,\n",
    "            \n",
    "            --Help,\n",
    "            \n",
    "            --NO Help,\n",
    "            \n",
    "            --Closing Remarks,\n",
    "            \n",
    "            --Location of the department,\n",
    "            \n",
    "            --Timing/working hours of Department,\n",
    "            \n",
    "            --Contact department,\n",
    "            \n",
    "            --Head/Chair of Department,\n",
    "            \n",
    "            --Details of Professors:\n",
    "            \n",
    "                Prof Ivan Selesnick,\n",
    "                \n",
    "                Prof Sundeep Rangan,\n",
    "                \n",
    "                Prof Yury Dvorkin,\n",
    "                \n",
    "                Prof Ludovic Righetti."
   ]
  },
  {
   "cell_type": "code",
   "execution_count": 29,
   "metadata": {},
   "outputs": [],
   "source": [
    "filename = 'data.txt'\n",
    "data = get_content(filename)"
   ]
  },
  {
   "cell_type": "code",
   "execution_count": 30,
   "metadata": {},
   "outputs": [
    {
     "data": {
      "text/plain": [
       "[['Hello',\n",
       "  'Greetings',\n",
       "  'Hello. Greeting For the day! I am Bobcat. I will serve your NYU-Tandon ECE department enquiries.'],\n",
       " ['hi hello',\n",
       "  'Greetings',\n",
       "  'Hello. I am Bobcat. Greeting For the day! I will serve your NYU-Tandon ECE department enquiries.'],\n",
       " ['hi ',\n",
       "  'Greetings',\n",
       "  'Hello. I am Bobcat. Greeting For the day! I will serve your NYU-Tandon ECE department enquiries.'],\n",
       " ['hi',\n",
       "  'Greetings',\n",
       "  'Hello. I am Bobcat. Greeting For the day! I will serve your NYU-Tandon ECE department enquiries.'],\n",
       " ['hi',\n",
       "  'Greetings',\n",
       "  'Hello. I am Bobcat. Greeting For the day! I will serve your NYU-Tandon ECE department enquiries.'],\n",
       " ['hey',\n",
       "  'Greetings',\n",
       "  'Hello. I am Bobcat. Greeting For the day! I will serve your NYU-Tandon ECE department enquiries.'],\n",
       " ['hello, hi',\n",
       "  'Greetings',\n",
       "  'Hello. I am Bobcat. Greeting For the day! I will serve your NYU-Tandon ECE department enquiries.'],\n",
       " ['hey',\n",
       "  'Greetings',\n",
       "  'Hello. I am Bobcat. Greeting For the day! I will serve your NYU-Tandon ECE department enquiries.'],\n",
       " ['hey, hi',\n",
       "  'Greetings',\n",
       "  'Hello. I am Bobcat. Greeting For the day! I will serve your NYU-Tandon ECE department enquiries.'],\n",
       " ['hey, hello',\n",
       "  'Greetings',\n",
       "  'Hello. I am Bobcat. Greeting For the day! I will serve your NYU-Tandon ECE department enquiries.'],\n",
       " ['Good morning',\n",
       "  'Morning',\n",
       "  'Good Morning. I am Bobcat. Greeting For the day! I will serve your NYU-Tandon ECE department enquiries.'],\n",
       " ['Good afternoon',\n",
       "  'Afternoon',\n",
       "  'Good afternoon. I am Bobcat. Greeting For the day! I will serve your NYU-Tandon ECE department enquiries.'],\n",
       " ['Good evening',\n",
       "  'Evening',\n",
       "  'Good evening. I am Bobcat. Greeting For the day! I will serve your NYU-Tandon ECE department enquiries.'],\n",
       " ['Good night', 'Goodbye', 'Good night. Take care.'],\n",
       " ['How are you today?', 'Opening', \"I'm fine! Thank you. How may I help you?\"],\n",
       " ['want help', 'Help', 'How may I help you?'],\n",
       " ['need help', 'Help', 'How may I help you?'],\n",
       " ['help me', 'Help', 'How may I help you?'],\n",
       " [\"I don't want your help.\",\n",
       "  'No-Help',\n",
       "  'Ok sir/madam. No problem. Have a nice day. '],\n",
       " [\"I don't want your assistance\",\n",
       "  'No-Help',\n",
       "  'Ok sir/madam. No problem. Have a nice day.'],\n",
       " ['No help required', 'No-Help', 'Ok sir/madam. No problem. Have a nice day.'],\n",
       " ['It has been great talking to you.',\n",
       "  'Closing',\n",
       "  \"It's glad to know that I have been helpful. Have a good day!\"],\n",
       " ['great',\n",
       "  'Closing',\n",
       "  \"It's glad to know that I have been helpful. Have a good day!\"],\n",
       " ['thank you for your help',\n",
       "  'Closing',\n",
       "  \"It's glad to know that I have been helpful. Have a good day!\"],\n",
       " ['thank you',\n",
       "  'Closing',\n",
       "  \"It's glad to know that I have been helpful. Have a good day!\"],\n",
       " ['thank you very much',\n",
       "  'Closing',\n",
       "  \"It's glad to know that I have been helpful. Have a good day!\"],\n",
       " ['thanks.',\n",
       "  'Closing',\n",
       "  \"You're welcome!It's glad to know that I have been helpful. Have a good day!\"],\n",
       " ['thanks very much',\n",
       "  'Closing',\n",
       "  \"It's glad to know that I have been helpful. Have a good day!\"],\n",
       " ['Where is ECE department?',\n",
       "  'Location',\n",
       "  'The ECE Department located is on the 8th Floor at 370 Jay Street 2nd Floor at 5 Metrotech Center.'],\n",
       " ['What is location of ECE department?',\n",
       "  'Location',\n",
       "  'The ECE Department located is on the 8th Floor at 370 Jay Street 2nd Floor at 5 Metrotech Center.'],\n",
       " ['ECE department?',\n",
       "  'Location',\n",
       "  'The ECE Department located is on the 8th Floor at 370 Jay Street 2nd Floor at 5 Metrotech Center.'],\n",
       " ['ECE',\n",
       "  'Location',\n",
       "  'The ECE Department located is on the 8th Floor at 370 Jay Street 2nd Floor at 5 Metrotech Center.'],\n",
       " ['where is ece?',\n",
       "  'Location',\n",
       "  'The ECE Department located is on the 8th Floor at 370 Jay Street & 2nd Floor at 5 Metrotech Center.'],\n",
       " ['What are the operational hours of ece?',\n",
       "  'timings',\n",
       "  'There is always someone to attend you from 9am till 5pm.'],\n",
       " ['when can I contact ECE department?',\n",
       "  'timings',\n",
       "  'There is always someone to attend you from 9am till 5pm.'],\n",
       " ['how to contact the department?',\n",
       "  'Contact-Department',\n",
       "  'You can contact department virtually via by calling - 646-997-3878'],\n",
       " ['How to call the department?',\n",
       "  'Contact-Department',\n",
       "  ' You can contact department virtually via by calling - 646-997-3878'],\n",
       " ['How can I call the department?',\n",
       "  'Contact-Department',\n",
       "  'You can contact department virtually via by calling - 646-997-3878'],\n",
       " ['Tell me the phone number for the department?',\n",
       "  'Contact-Department',\n",
       "  'You can contact department virtually via by calling - 646-997-3878'],\n",
       " ['How to contact?',\n",
       "  'Contact-Department',\n",
       "  'You can contact department virtually via by calling - 646-997-3878'],\n",
       " ['contact',\n",
       "  'Contact-Department',\n",
       "  'You can contact department virtually via by calling - 646-997-3878'],\n",
       " ['phone number',\n",
       "  'Contact-Department',\n",
       "  'You can contact department virtually via by calling - 646-997-3878'],\n",
       " ['department phone',\n",
       "  'Contact-Department',\n",
       "  'You can contact department virtually via by calling - 646-997-3878'],\n",
       " ['phone number of department',\n",
       "  'Contact-Department',\n",
       "  'You can contact department virtually via by calling - 646-997-3878'],\n",
       " ['Who is the department head?',\n",
       "  'Department-Head',\n",
       "  'Prof.Ivan Selesnick is the Head of ECE Department. You can find more details on him at: https://eeweb.engineering.nyu.edu/iselesni/'],\n",
       " ['Department head',\n",
       "  'Department-Head',\n",
       "  'Prof.Ivan Selesnick is the Head of ECE Department. You can find more details on him at: https://eeweb.engineering.nyu.edu/iselesni/'],\n",
       " ['H.O.D',\n",
       "  'Department-Head',\n",
       "  'Prof.Ivan Selesnick is the Head of ECE Department. You can find more details on him at: https://eeweb.engineering.nyu.edu/iselesni/'],\n",
       " ['Department Chair',\n",
       "  'Department-Head',\n",
       "  'Prof.Ivan Selesnick is the Head of ECE Department. You can find more details on him at: https://eeweb.engineering.nyu.edu/iselesni/'],\n",
       " ['Department ',\n",
       "  'Department-Head',\n",
       "  'Prof.Ivan Selesnick is the Head of ECE Department. You can find more details on him at: https://eeweb.engineering.nyu.edu/iselesni/'],\n",
       " ['Ivan Selesnick ',\n",
       "  'Department-Head',\n",
       "  'Prof. Ivan Selesnick is the Head of ECE Department. You can find more details on him at: https://eeweb.engineering.nyu.edu/iselesni/'],\n",
       " ['Professor Ivan Selesnick',\n",
       "  'Department-Head',\n",
       "  'Prof. Ivan Selesnick is the Head of ECE Department. You can find more details on him at: https://eeweb.engineering.nyu.edu/iselesni/'],\n",
       " ['Ivan',\n",
       "  'Department-Head',\n",
       "  'Prof. Ivan Selesnick is the Head of ECE Department. You can find more details on him at: https://eeweb.engineering.nyu.edu/iselesni/'],\n",
       " ['Selesnick',\n",
       "  'Department-Head',\n",
       "  'Prof. Ivan Selesnick is the Head of ECE Department. You can find more details on him at: https://eeweb.engineering.nyu.edu/iselesni/'],\n",
       " ['Prof Ivan',\n",
       "  'Department-Head',\n",
       "  'Prof. Ivan Selesnick is the Head of ECE Department. You can find more details on him at: https://eeweb.engineering.nyu.edu/iselesni/'],\n",
       " ['Which room does professor Ivan occupy',\n",
       "  'Department-Head',\n",
       "  'Prof. Ivan Selesnick is the Head of ECE Department. You can find more details on him at: https://eeweb.engineering.nyu.edu/iselesni/'],\n",
       " ['professor Ivan office hours',\n",
       "  'Department-Head',\n",
       "  'Prof. Ivan Selesnick is the Head of ECE Department. You can find more details on him at: https://eeweb.engineering.nyu.edu/iselesni/'],\n",
       " ['Meet professor Ivan',\n",
       "  'Department-Head',\n",
       "  'Prof. Ivan Selesnick is the Head of ECE Department. You can find more details on him at: https://eeweb.engineering.nyu.edu/iselesni/'],\n",
       " ['Where to meet prof Ivan',\n",
       "  'Department-Head',\n",
       "  'Prof. Ivan Selesnick is the Head of ECE Department. You can find more details on him at: https://eeweb.engineering.nyu.edu/iselesni/'],\n",
       " ['Contact professor Ivan',\n",
       "  'Department-Head',\n",
       "  'Prof. Ivan Selesnick is the Head of ECE Department. You can find more details on him at: https://eeweb.engineering.nyu.edu/iselesni/'],\n",
       " ['Contact ivan selesnick',\n",
       "  'Department-Head',\n",
       "  'Prof. Ivan Selesnick is the Head of ECE Department. You can find more details on him at: https://eeweb.engineering.nyu.edu/iselesni/'],\n",
       " ['Meet Ivan selesnick',\n",
       "  'Department-Head',\n",
       "  'Prof. Ivan Selesnick is the Head of ECE Department. You can find more details on him at: https://eeweb.engineering.nyu.edu/iselesni/'],\n",
       " ['email of Prof Ivan',\n",
       "  'Department-Head',\n",
       "  'Prof. Ivan Selesnick is the Head of ECE Department. You can find more details on him at: https://eeweb.engineering.nyu.edu/iselesni/'],\n",
       " ['email ivan',\n",
       "  'Department-Head',\n",
       "  'Prof. Ivan Selesnick is the Head of ECE Department. You can find more details on him at: https://eeweb.engineering.nyu.edu/iselesni/'],\n",
       " ['call Ivan',\n",
       "  'Department-Head',\n",
       "  'Prof. Ivan Selesnick is the Head of ECE Department. You can find more details on him at: https://eeweb.engineering.nyu.edu/iselesni/'],\n",
       " ['Sundeep Rangan ',\n",
       "  'Sundeep-Rangan',\n",
       "  'Prof. Sundeep Rangan is an Associate Professor and director at NYU Wireless. You can find more details on him at: https://wireless.engineering.nyu.edu/sundeep-rangan/'],\n",
       " ['Professor Sundeep Rangan',\n",
       "  'Sundeep-Rangan',\n",
       "  'Prof. Sundeep Rangan is an Associate Professor and director at NYU Wireless. You can find more details on him at: https://wireless.engineering.nyu.edu/sundeep-rangan/'],\n",
       " ['Sundeep',\n",
       "  'Sundeep-Rangan',\n",
       "  'Prof. Sundeep Rangan is an Associate Professor and director at NYU Wireless. You can find more details on him at: https:https://wireless.engineering.nyu.edu/sundeep-rangan/'],\n",
       " ['Rangan',\n",
       "  'Sundeep-Rangan',\n",
       "  'Prof. Sundeep Rangan is an Associate Professor and director at NYU Wireless. You can find more details on him at: https:https://wireless.engineering.nyu.edu/sundeep-rangan/'],\n",
       " ['Prof Sundeep',\n",
       "  'Sundeep-Rangan',\n",
       "  'Prof. Sundeep Rangan is an Associate Professor and director at NYU Wireless. You can find more details on him at: https:https://wireless.engineering.nyu.edu/sundeep-rangan/'],\n",
       " ['Prof Rangan',\n",
       "  'Sundeep-Rangan',\n",
       "  'Prof. Sundeep Rangan is an Associate Professor and director at NYU Wireless.You can find more on him at:https://wireless.engineering.nyu.edu/sundeep-rangan/'],\n",
       " ['Which room does professor Rangan occupy',\n",
       "  'Sundeep-Rangan',\n",
       "  'Prof. Sundeep Rangan is an Associate Professor and director at NYU Wireless. You can find more details on him at: https://wireless.engineering.nyu.edu/sundeep-rangan/'],\n",
       " ['professor Sundeep office hours',\n",
       "  'Sundeep-Rangan',\n",
       "  'Prof. Sundeep Rangan is an Associate Professor and director at NYU Wireless. You can find more details on him at: https://wireless.engineering.nyu.edu/sundeep-rangan/'],\n",
       " ['Meet professor Sundeep',\n",
       "  'Sundeep-Rangan',\n",
       "  'Prof. Sundeep Rangan is an Associate Professor and director at NYU Wireless. You can find more details on him at: https://wireless.engineering.nyu.edu/sundeep-rangan/'],\n",
       " ['Where to meet prof Sundeep',\n",
       "  'Sundeep-Rangan',\n",
       "  'Prof. Sundeep Rangan is an Associate Professor and director at NYU Wireless. You can find more details on him at: https://wireless.engineering.nyu.edu/sundeep-rangan/'],\n",
       " ['Contact professor Sundeep',\n",
       "  'Sundeep-Rangan',\n",
       "  'Prof. Sundeep Rangan is an Associate Professor and director at NYU Wireless. You can find more details on him at: https://wireless.engineering.nyu.edu/sundeep-rangan/'],\n",
       " ['Contact Sundeep Rangan',\n",
       "  'Sundeep-Rangan',\n",
       "  'Prof. Sundeep Rangan is an Associate Professor and director at NYU Wireless. You can find more details on him at: https://wireless.engineering.nyu.edu/sundeep-rangan/'],\n",
       " ['Meet Sundeep Rangan',\n",
       "  'Sundeep-Rangan',\n",
       "  'Prof. Sundeep Rangan is an Associate Professor and director at NYU Wireless. You can find more details on him at: https://wireless.engineering.nyu.edu/sundeep-rangan/'],\n",
       " ['email of Prof Sundeep',\n",
       "  'Sundeep-Rangan',\n",
       "  'Prof. Sundeep Rangan is an Associate Professor and director at NYU Wireless. You can find more details on him at: https://wireless.engineering.nyu.edu/sundeep-rangan/'],\n",
       " ['email Sundeep',\n",
       "  'Sundeep-Rangan',\n",
       "  'Prof. Sundeep Rangan is an Associate Professor and director at NYU Wireless. You can find more details on him at: https://wireless.engineering.nyu.edu/sundeep-rangan/'],\n",
       " ['call Sundeep',\n",
       "  'Sundeep-Rangan',\n",
       "  'Prof. Sundeep Rangan is an Associate Professor and director at NYU Wireless. You can find more details on him at: https://wireless.engineering.nyu.edu/sundeep-rangan/'],\n",
       " ['Yury Dvorkin ',\n",
       "  'Yury-Dvorkin',\n",
       "  'Prof. Yury Dvorkin is an Assistant Professor and affiliated appointment at NYU CUSP. You can find more details on him at: https://wp.nyu.edu/dvorkin/about-yury/'],\n",
       " ['Professor Yury Dvorkin',\n",
       "  'Yury-Dvorkin',\n",
       "  'Prof. Yury Dvorkin is an Assistant Professor and affiliated appointment at NYU CUSP. You can find more details on him at: https://wp.nyu.edu/dvorkin/about-yury/'],\n",
       " ['Yury',\n",
       "  'Yury-Dvorkin',\n",
       "  'Prof. Yury Dvorkin is an Assistant Professor and affiliated appointment at NYU CUSP. You can find more details on him at: https://wp.nyu.edu/dvorkin/about-yury/'],\n",
       " ['Dvorkin',\n",
       "  'Yury-Dvorkin',\n",
       "  'Prof. Yury Dvorkin is an Assistant Professor and affiliated appointment at NYU CUSP. You can find more details on him at: https://wp.nyu.edu/dvorkin/about-yury/'],\n",
       " ['Prof Yury',\n",
       "  'Yury-Dvorkin',\n",
       "  'Prof. Yury Dvorkin is an Assistant Professor and affiliated appointment at NYU CUSP. You can find more details on him at: https://wp.nyu.edu/dvorkin/about-yury/'],\n",
       " ['Prof Dvorkin',\n",
       "  'Yury-Dvorkin',\n",
       "  'Prof. Yury Dvorkin is an Assistant Professor and affiliated appointment at NYU CUSP. You can find more on him at: https://wp.nyu.edu/dvorkin/about-yury/'],\n",
       " ['Which room does professor Yury occupy',\n",
       "  'Yury-Dvorkin',\n",
       "  'Prof. Yury Dvorkin is an Assistant Professor and affiliated appointment at NYU CUSP. You can find more details on him at: https://wp.nyu.edu/dvorkin/about-yury/'],\n",
       " ['professor Yury office hours',\n",
       "  'Yury-Dvorkin',\n",
       "  'Prof. Yury Dvorkin is an Assistant Professor and affiliated appointment at NYU CUSP. You can find more details on him at: https://wp.nyu.edu/dvorkin/about-yury/'],\n",
       " ['Meet professor Yury ',\n",
       "  'Yury-Dvorkin',\n",
       "  'Prof. Yury Dvorkin is an Assistant Professor and affiliated appointment at NYU CUSP. You can find more details on him at: https://wp.nyu.edu/dvorkin/about-yury/'],\n",
       " ['Where to meet prof Yury',\n",
       "  'Yury-Dvorkin',\n",
       "  'Prof. Yury Dvorkin is an Assistant Professor and affiliated appointment at NYU CUSP. You can find more details on him at: https://wp.nyu.edu/dvorkin/about-yury/'],\n",
       " ['Contact professor Yury ',\n",
       "  'Yury-Dvorkin',\n",
       "  'Prof. Yury Dvorkin is an Assistant Professor and affiliated appointment at NYU CUSP. You can find more details on him at: https://wp.nyu.edu/dvorkin/about-yury/'],\n",
       " ['Contact Dvorkin',\n",
       "  'Yury-Dvorkin',\n",
       "  'Prof. Yury Dvorkin is an Assistant Professor and affiliated appointment at NYU CUSP. You can find more details on him at: https://wp.nyu.edu/dvorkin/about-yury/'],\n",
       " ['Meet Yury ',\n",
       "  'Yury-Dvorkin',\n",
       "  'Prof. Yury Dvorkin is an Assistant Professor and affiliated appointment at NYU CUSP. You can find more details on him at: https://wp.nyu.edu/dvorkin/about-yury/'],\n",
       " ['email of Prof Yury',\n",
       "  'Yury-Dvorkin',\n",
       "  'Prof. Yury Dvorkin is an Assistant Professor and affiliated appointment at NYU CUSP. You can find more details on him at: https://wp.nyu.edu/dvorkin/about-yury/'],\n",
       " ['email Yury ',\n",
       "  'Yury-Dvorkin',\n",
       "  'Prof. Yury Dvorkin is an Assistant Professor and affiliated appointment at NYU CUSP. You can find more details on him at: https://wp.nyu.edu/dvorkin/about-yury/'],\n",
       " ['call Yury',\n",
       "  'Yury-Dvorkin',\n",
       "  'Prof. Yury Dvorkin is an Assistant Professor and affiliated appointment at NYU CUSP. You can find more details on him at: https://wp.nyu.edu/dvorkin/about-yury/'],\n",
       " ['Ludovic Righetti ',\n",
       "  'Ludovic-Righetti',\n",
       "  'Prof.Ludovic Righetti is an Associate Professor in the ECE & MAE Department and, a Senior Researcher at the Max-Planck Institute for Intelligent Systems (MPI-IS). You can find more details on him at: https://wp.nyu.edu/machinesinmotion/'],\n",
       " ['Professor Ludovic Righetti',\n",
       "  'Ludovic-Righetti',\n",
       "  'Prof.Ludovic Righetti is an Associate Professor in the ECE & MAE Department and, a Senior Researcher at the Max-Planck Institute for Intelligent Systems (MPI-IS). You can find more details on him at: https://wp.nyu.edu/machinesinmotion/'],\n",
       " ['Ludovic ',\n",
       "  'Ludovic-Righetti',\n",
       "  'Prof.Ludovic Righetti is an Associate Professor in the ECE & MAE Department and, a Senior Researcher at the Max-Planck Institute for Intelligent Systems (MPI-IS).  You can find more details on him at: https://wp.nyu.edu/machinesinmotion/'],\n",
       " ['Righetti',\n",
       "  'Ludovic-Righetti',\n",
       "  'Prof.Ludovic Righetti is an Associate Professor in the ECE & MAE Department and, a Senior Researcher at the Max-Planck Institute for Intelligent Systems (MPI-IS).  You can find more details on him at: https://wp.nyu.edu/machinesinmotion/'],\n",
       " ['Prof Ludovic',\n",
       "  'Ludovic-Righetti',\n",
       "  'Prof.Ludovic Righetti is an Associate Professor in the ECE & MAE Department and, a Senior Researcher at the Max-Planck Institute for Intelligent Systems (MPI-IS).  You can find more details on him at: https://wp.nyu.edu/machinesinmotion/'],\n",
       " ['Prof Righetti',\n",
       "  'Ludovic-Righetti',\n",
       "  'Prof.Ludovic Righetti is an Associate Professor in the ECE & MAE Department and, a Senior Researcher at the Max-Planck Institute for Intelligent Systems (MPI-IS).  You can find more on him at: https://wp.nyu.edu/machinesinmotion/'],\n",
       " ['Which room does professor Ludovic occupy',\n",
       "  'Ludovic-Righetti',\n",
       "  'Prof.Ludovic Righetti is an Associate Professor in the ECE & MAE Department and, a Senior Researcher at the Max-Planck Institute for Intelligent Systems (MPI-IS).  You can find more details on him at: https://wp.nyu.edu/machinesinmotion/'],\n",
       " ['professor Ludovic office hours',\n",
       "  'Ludovic-Righetti',\n",
       "  'Prof.Ludovic Righetti is an Associate Professor in the ECE & MAE Department and, a Senior Researcher at the Max-Planck Institute for Intelligent Systems (MPI-IS). You can find more details on him at: https://wp.nyu.edu/machinesinmotion/'],\n",
       " ['Meet professor Ludovic ',\n",
       "  'Ludovic-Righetti',\n",
       "  'Prof.Ludovic Righetti is an Associate Professor in the ECE & MAE Department and, a Senior Researcher at the Max-Planck Institute for Intelligent Systems (MPI-IS).  You can find more details on him at: https://wp.nyu.edu/machinesinmotion/'],\n",
       " ['Where to meet prof Ludovic',\n",
       "  'Ludovic-Righetti',\n",
       "  'Prof.Ludovic Righetti is an Associate Professor in the ECE & MAE Department and, a Senior Researcher at the Max-Planck Institute for Intelligent Systems (MPI-IS).  You can find more details on him at: https://wp.nyu.edu/machinesinmotion/'],\n",
       " ['Contact professor Ludovic',\n",
       "  'Ludovic-Righetti',\n",
       "  'Prof.Ludovic Righetti is an Associate Professor in the ECE & MAE Department and, a Senior Researcher at the Max-Planck Institute for Intelligent Systems (MPI-IS).  You can find more details on him at: https://wp.nyu.edu/machinesinmotion/'],\n",
       " ['Contact Ludovic Righetti',\n",
       "  'Ludovic-Righetti',\n",
       "  'Prof.Ludovic Righetti is an Associate Professor in the ECE & MAE Department and, a Senior Researcher at the Max-Planck Institute for Intelligent Systems (MPI-IS).  You can find more details on him at: https://wp.nyu.edu/machinesinmotion/'],\n",
       " ['Meet Ludovic ',\n",
       "  'Ludovic-Righetti',\n",
       "  'Prof.Ludovic Righetti is an Associate Professor in the ECE & MAE Department and, a Senior Researcher at the Max-Planck Institute for Intelligent Systems (MPI-IS). You can find more details on him at: https://wp.nyu.edu/machinesinmotion/'],\n",
       " ['email of Prof Righetti',\n",
       "  'Ludovic-Righetti',\n",
       "  'Prof.Ludovic Righetti is an Associate Professor in the ECE & MAE Department and, a Senior Researcher at the Max-Planck Institute for Intelligent Systems (MPI-IS).  You can find more details on him at: https://wp.nyu.edu/machinesinmotion/'],\n",
       " ['email Ludovic',\n",
       "  'Ludovic-Righetti',\n",
       "  'Prof.Ludovic Righetti is an Associate Professor in the ECE & MAE Department and, a Senior Researcher at the Max-Planck Institute for Intelligent Systems (MPI-IS).  You can find more details on him at: https://wp.nyu.edu/machinesinmotion/'],\n",
       " ['call Ludovic',\n",
       "  'Ludovic-Righetti',\n",
       "  'Prof.Ludovic Righetti is an Associate Professor in the ECE & MAE Department and, a Senior Researcher at the Max-Planck Institute for Intelligent Systems (MPI-IS).  You can find more details on him at: https://wp.nyu.edu/machinesinmotion/']]"
      ]
     },
     "execution_count": 30,
     "metadata": {},
     "output_type": "execute_result"
    }
   ],
   "source": [
    "data"
   ]
  },
  {
   "cell_type": "code",
   "execution_count": 31,
   "metadata": {},
   "outputs": [],
   "source": [
    "features_data, corpus, answers = extract_feature_from_doc(data)"
   ]
  },
  {
   "cell_type": "code",
   "execution_count": 32,
   "metadata": {},
   "outputs": [
    {
     "name": "stdout",
     "output_type": "stream",
     "text": [
      "({'professor': True, 'ivan': True, 'selesnick': True}, 'Department-Head')\n"
     ]
    }
   ],
   "source": [
    "print(features_data[50])"
   ]
  },
  {
   "cell_type": "code",
   "execution_count": 33,
   "metadata": {},
   "outputs": [
    {
     "data": {
      "text/plain": [
       "['hello',\n",
       " 'hi',\n",
       " 'hello',\n",
       " 'hi',\n",
       " 'hi',\n",
       " 'hi',\n",
       " 'hey',\n",
       " 'hello',\n",
       " 'hi',\n",
       " 'hey',\n",
       " 'hey',\n",
       " 'hi',\n",
       " 'hey',\n",
       " 'hello',\n",
       " 'good',\n",
       " 'morn',\n",
       " 'good',\n",
       " 'afternoon',\n",
       " 'good',\n",
       " 'even',\n",
       " 'good',\n",
       " 'night',\n",
       " 'today',\n",
       " 'want',\n",
       " 'help',\n",
       " 'need',\n",
       " 'help',\n",
       " 'help',\n",
       " 'want',\n",
       " 'help',\n",
       " 'want',\n",
       " 'assist',\n",
       " 'help',\n",
       " 'great',\n",
       " 'talk',\n",
       " 'great',\n",
       " 'thank',\n",
       " 'help',\n",
       " 'thank',\n",
       " 'thank',\n",
       " 'much',\n",
       " 'thank',\n",
       " 'thank',\n",
       " 'much',\n",
       " 'ece',\n",
       " 'depart',\n",
       " 'locat',\n",
       " 'ece',\n",
       " 'depart',\n",
       " 'ece',\n",
       " 'depart',\n",
       " 'ece',\n",
       " 'ece',\n",
       " 'oper',\n",
       " 'hour',\n",
       " 'ece',\n",
       " 'contact',\n",
       " 'ece',\n",
       " 'depart',\n",
       " 'contact',\n",
       " 'depart',\n",
       " 'call',\n",
       " 'depart',\n",
       " 'call',\n",
       " 'depart',\n",
       " 'phone',\n",
       " 'number',\n",
       " 'depart',\n",
       " 'contact',\n",
       " 'contact',\n",
       " 'phone',\n",
       " 'number',\n",
       " 'depart',\n",
       " 'phone',\n",
       " 'phone',\n",
       " 'number',\n",
       " 'depart',\n",
       " 'depart',\n",
       " 'head',\n",
       " 'depart',\n",
       " 'head',\n",
       " 'h',\n",
       " 'depart',\n",
       " 'chair',\n",
       " 'depart',\n",
       " 'ivan',\n",
       " 'selesnick',\n",
       " 'professor',\n",
       " 'ivan',\n",
       " 'selesnick',\n",
       " 'ivan',\n",
       " 'selesnick',\n",
       " 'prof',\n",
       " 'ivan',\n",
       " 'room',\n",
       " 'professor',\n",
       " 'ivan',\n",
       " 'occupi',\n",
       " 'professor',\n",
       " 'ivan',\n",
       " 'offic',\n",
       " 'hour',\n",
       " 'meet',\n",
       " 'professor',\n",
       " 'ivan',\n",
       " 'meet',\n",
       " 'prof',\n",
       " 'ivan',\n",
       " 'contact',\n",
       " 'professor',\n",
       " 'ivan',\n",
       " 'contact',\n",
       " 'ivan',\n",
       " 'selesnick',\n",
       " 'meet',\n",
       " 'ivan',\n",
       " 'selesnick',\n",
       " 'email',\n",
       " 'prof',\n",
       " 'ivan',\n",
       " 'email',\n",
       " 'ivan',\n",
       " 'call',\n",
       " 'ivan',\n",
       " 'sundeep',\n",
       " 'rangan',\n",
       " 'professor',\n",
       " 'sundeep',\n",
       " 'rangan',\n",
       " 'sundeep',\n",
       " 'rangan',\n",
       " 'prof',\n",
       " 'sundeep',\n",
       " 'prof',\n",
       " 'rangan',\n",
       " 'room',\n",
       " 'professor',\n",
       " 'rangan',\n",
       " 'occupi',\n",
       " 'professor',\n",
       " 'sundeep',\n",
       " 'offic',\n",
       " 'hour',\n",
       " 'meet',\n",
       " 'professor',\n",
       " 'sundeep',\n",
       " 'meet',\n",
       " 'prof',\n",
       " 'sundeep',\n",
       " 'contact',\n",
       " 'professor',\n",
       " 'sundeep',\n",
       " 'contact',\n",
       " 'sundeep',\n",
       " 'rangan',\n",
       " 'meet',\n",
       " 'sundeep',\n",
       " 'rangan',\n",
       " 'email',\n",
       " 'prof',\n",
       " 'sundeep',\n",
       " 'email',\n",
       " 'sundeep',\n",
       " 'call',\n",
       " 'sundeep',\n",
       " 'yuri',\n",
       " 'dvorkin',\n",
       " 'professor',\n",
       " 'yuri',\n",
       " 'dvorkin',\n",
       " 'yuri',\n",
       " 'dvorkin',\n",
       " 'prof',\n",
       " 'yuri',\n",
       " 'prof',\n",
       " 'dvorkin',\n",
       " 'room',\n",
       " 'professor',\n",
       " 'yuri',\n",
       " 'occupi',\n",
       " 'professor',\n",
       " 'yuri',\n",
       " 'offic',\n",
       " 'hour',\n",
       " 'meet',\n",
       " 'professor',\n",
       " 'yuri',\n",
       " 'meet',\n",
       " 'prof',\n",
       " 'yuri',\n",
       " 'contact',\n",
       " 'professor',\n",
       " 'yuri',\n",
       " 'contact',\n",
       " 'dvorkin',\n",
       " 'meet',\n",
       " 'yuri',\n",
       " 'email',\n",
       " 'prof',\n",
       " 'yuri',\n",
       " 'email',\n",
       " 'yuri',\n",
       " 'call',\n",
       " 'yuri',\n",
       " 'ludov',\n",
       " 'righetti',\n",
       " 'professor',\n",
       " 'ludov',\n",
       " 'righetti',\n",
       " 'ludov',\n",
       " 'righetti',\n",
       " 'prof',\n",
       " 'ludov',\n",
       " 'prof',\n",
       " 'righetti',\n",
       " 'room',\n",
       " 'professor',\n",
       " 'ludov',\n",
       " 'occupi',\n",
       " 'professor',\n",
       " 'ludov',\n",
       " 'offic',\n",
       " 'hour',\n",
       " 'meet',\n",
       " 'professor',\n",
       " 'ludov',\n",
       " 'meet',\n",
       " 'prof',\n",
       " 'ludov',\n",
       " 'contact',\n",
       " 'professor',\n",
       " 'ludov',\n",
       " 'contact',\n",
       " 'ludov',\n",
       " 'righetti',\n",
       " 'meet',\n",
       " 'ludov',\n",
       " 'email',\n",
       " 'prof',\n",
       " 'righetti',\n",
       " 'email',\n",
       " 'ludov',\n",
       " 'call',\n",
       " 'ludov']"
      ]
     },
     "execution_count": 33,
     "metadata": {},
     "output_type": "execute_result"
    }
   ],
   "source": [
    "corpus"
   ]
  },
  {
   "cell_type": "code",
   "execution_count": 34,
   "metadata": {},
   "outputs": [
    {
     "data": {
      "text/plain": [
       "{'Greetings': 'Hello. I am Bobcat. Greeting For the day! I will serve your NYU-Tandon ECE department enquiries.',\n",
       " 'Morning': 'Good Morning. I am Bobcat. Greeting For the day! I will serve your NYU-Tandon ECE department enquiries.',\n",
       " 'Afternoon': 'Good afternoon. I am Bobcat. Greeting For the day! I will serve your NYU-Tandon ECE department enquiries.',\n",
       " 'Evening': 'Good evening. I am Bobcat. Greeting For the day! I will serve your NYU-Tandon ECE department enquiries.',\n",
       " 'Goodbye': 'Good night. Take care.',\n",
       " 'Opening': \"I'm fine! Thank you. How may I help you?\",\n",
       " 'Help': 'How may I help you?',\n",
       " 'No-Help': 'Ok sir/madam. No problem. Have a nice day.',\n",
       " 'Closing': \"It's glad to know that I have been helpful. Have a good day!\",\n",
       " 'Location': 'The ECE Department located is on the 8th Floor at 370 Jay Street & 2nd Floor at 5 Metrotech Center.',\n",
       " 'timings': 'There is always someone to attend you from 9am till 5pm.',\n",
       " 'Contact-Department': 'You can contact department virtually via by calling - 646-997-3878',\n",
       " 'Department-Head': 'Prof. Ivan Selesnick is the Head of ECE Department. You can find more details on him at: https://eeweb.engineering.nyu.edu/iselesni/',\n",
       " 'Sundeep-Rangan': 'Prof. Sundeep Rangan is an Associate Professor and director at NYU Wireless. You can find more details on him at: https://wireless.engineering.nyu.edu/sundeep-rangan/',\n",
       " 'Yury-Dvorkin': 'Prof. Yury Dvorkin is an Assistant Professor and affiliated appointment at NYU CUSP. You can find more details on him at: https://wp.nyu.edu/dvorkin/about-yury/',\n",
       " 'Ludovic-Righetti': 'Prof.Ludovic Righetti is an Associate Professor in the ECE & MAE Department and, a Senior Researcher at the Max-Planck Institute for Intelligent Systems (MPI-IS).  You can find more details on him at: https://wp.nyu.edu/machinesinmotion/'}"
      ]
     },
     "execution_count": 34,
     "metadata": {},
     "output_type": "execute_result"
    }
   ],
   "source": [
    "answers"
   ]
  },
  {
   "cell_type": "markdown",
   "metadata": {},
   "source": [
    "# Train a model using these fetures"
   ]
  },
  {
   "cell_type": "code",
   "execution_count": 35,
   "metadata": {},
   "outputs": [],
   "source": [
    "## split data into train and test sets\n",
    "split_ratio = 0.75"
   ]
  },
  {
   "cell_type": "code",
   "execution_count": 36,
   "metadata": {},
   "outputs": [],
   "source": [
    "def split_dataset(data, split_ratio):\n",
    "    random.shuffle(data)\n",
    "    data_length = len(data)\n",
    "    train_split = int(data_length * split_ratio)\n",
    "    return (data[:train_split]), (data[train_split:])"
   ]
  },
  {
   "cell_type": "code",
   "execution_count": 37,
   "metadata": {},
   "outputs": [],
   "source": [
    "training_data, test_data = split_dataset(features_data, split_ratio)"
   ]
  },
  {
   "cell_type": "code",
   "execution_count": 38,
   "metadata": {},
   "outputs": [
    {
     "data": {
      "text/plain": [
       "[({'want': True, 'help': True}, 'No-Help'),\n",
       " ({'hello': True, 'hi': True}, 'Greetings'),\n",
       " ({'call': True, 'sundeep': True}, 'Sundeep-Rangan'),\n",
       " ({'meet': True, 'professor': True, 'sundeep': True}, 'Sundeep-Rangan'),\n",
       " ({'great': True}, 'Closing'),\n",
       " ({'email': True, 'prof': True, 'ivan': True}, 'Department-Head'),\n",
       " ({'want': True, 'help': True}, 'Help'),\n",
       " ({'ludov': True}, 'Ludovic-Righetti'),\n",
       " ({'email': True, 'prof': True, 'yuri': True}, 'Yury-Dvorkin'),\n",
       " ({'ece': True, 'depart': True}, 'Location'),\n",
       " ({'prof': True, 'ludov': True}, 'Ludovic-Righetti'),\n",
       " ({'meet': True, 'prof': True, 'yuri': True}, 'Yury-Dvorkin'),\n",
       " ({'help': True}, 'Help'),\n",
       " ({'sundeep': True, 'rangan': True}, 'Sundeep-Rangan'),\n",
       " ({'need': True, 'help': True}, 'Help'),\n",
       " ({'rangan': True}, 'Sundeep-Rangan'),\n",
       " ({'prof': True, 'dvorkin': True}, 'Yury-Dvorkin'),\n",
       " ({'depart': True, 'head': True}, 'Department-Head'),\n",
       " ({'help': True}, 'No-Help'),\n",
       " ({'professor': True, 'yuri': True, 'dvorkin': True}, 'Yury-Dvorkin'),\n",
       " ({'meet': True, 'professor': True, 'ivan': True}, 'Department-Head'),\n",
       " ({'meet': True, 'ivan': True, 'selesnick': True}, 'Department-Head'),\n",
       " ({'professor': True, 'ivan': True, 'selesnick': True}, 'Department-Head'),\n",
       " ({'meet': True, 'prof': True, 'ludov': True}, 'Ludovic-Righetti'),\n",
       " ({'contact': True}, 'Contact-Department'),\n",
       " ({'prof': True, 'yuri': True}, 'Yury-Dvorkin'),\n",
       " ({'email': True, 'ludov': True}, 'Ludovic-Righetti'),\n",
       " ({'meet': True, 'yuri': True}, 'Yury-Dvorkin'),\n",
       " ({'professor': True, 'ludov': True, 'offic': True, 'hour': True},\n",
       "  'Ludovic-Righetti'),\n",
       " ({'meet': True, 'prof': True, 'sundeep': True}, 'Sundeep-Rangan'),\n",
       " ({'dvorkin': True}, 'Yury-Dvorkin'),\n",
       " ({'thank': True, 'help': True}, 'Closing'),\n",
       " ({'contact': True, 'professor': True, 'yuri': True}, 'Yury-Dvorkin'),\n",
       " ({'locat': True, 'ece': True, 'depart': True}, 'Location'),\n",
       " ({'thank': True, 'much': True}, 'Closing'),\n",
       " ({'professor': True, 'yuri': True, 'offic': True, 'hour': True},\n",
       "  'Yury-Dvorkin'),\n",
       " ({'ivan': True, 'selesnick': True}, 'Department-Head'),\n",
       " ({'good': True, 'night': True}, 'Goodbye'),\n",
       " ({'contact': True, 'ludov': True, 'righetti': True}, 'Ludovic-Righetti'),\n",
       " ({'want': True, 'assist': True}, 'No-Help'),\n",
       " ({'email': True, 'sundeep': True}, 'Sundeep-Rangan'),\n",
       " ({'meet': True, 'professor': True, 'ludov': True}, 'Ludovic-Righetti'),\n",
       " ({'ivan': True}, 'Department-Head'),\n",
       " ({'thank': True, 'much': True}, 'Closing'),\n",
       " ({'yuri': True}, 'Yury-Dvorkin'),\n",
       " ({'ece': True}, 'Location'),\n",
       " ({'good': True, 'afternoon': True}, 'Afternoon'),\n",
       " ({'contact': True, 'professor': True, 'ivan': True}, 'Department-Head'),\n",
       " ({'hey': True, 'hello': True}, 'Greetings'),\n",
       " ({'contact': True, 'depart': True}, 'Contact-Department'),\n",
       " ({'hi': True}, 'Greetings'),\n",
       " ({'room': True, 'professor': True, 'yuri': True, 'occupi': True},\n",
       "  'Yury-Dvorkin'),\n",
       " ({'prof': True, 'righetti': True}, 'Ludovic-Righetti'),\n",
       " ({'email': True, 'prof': True, 'sundeep': True}, 'Sundeep-Rangan'),\n",
       " ({'call': True, 'ivan': True}, 'Department-Head'),\n",
       " ({'prof': True, 'rangan': True}, 'Sundeep-Rangan'),\n",
       " ({'depart': True, 'chair': True}, 'Department-Head'),\n",
       " ({'hi': True, 'hello': True}, 'Greetings'),\n",
       " ({'great': True, 'talk': True}, 'Closing'),\n",
       " ({'room': True, 'professor': True, 'ludov': True, 'occupi': True},\n",
       "  'Ludovic-Righetti'),\n",
       " ({'phone': True, 'number': True, 'depart': True}, 'Contact-Department'),\n",
       " ({'thank': True}, 'Closing'),\n",
       " ({'professor': True, 'ivan': True, 'offic': True, 'hour': True},\n",
       "  'Department-Head'),\n",
       " ({'contact': True, 'sundeep': True, 'rangan': True}, 'Sundeep-Rangan'),\n",
       " ({'depart': True, 'head': True}, 'Department-Head'),\n",
       " ({'good': True, 'even': True}, 'Evening'),\n",
       " ({'hello': True}, 'Greetings'),\n",
       " ({'ece': True, 'depart': True}, 'Location'),\n",
       " ({'ludov': True, 'righetti': True}, 'Ludovic-Righetti'),\n",
       " ({'call': True, 'depart': True}, 'Contact-Department'),\n",
       " ({'room': True, 'professor': True, 'rangan': True, 'occupi': True},\n",
       "  'Sundeep-Rangan'),\n",
       " ({'righetti': True}, 'Ludovic-Righetti'),\n",
       " ({'professor': True, 'ludov': True, 'righetti': True}, 'Ludovic-Righetti'),\n",
       " ({'email': True, 'yuri': True}, 'Yury-Dvorkin'),\n",
       " ({'contact': True, 'professor': True, 'ludov': True}, 'Ludovic-Righetti'),\n",
       " ({'meet': True, 'ludov': True}, 'Ludovic-Righetti'),\n",
       " ({'meet': True, 'professor': True, 'yuri': True}, 'Yury-Dvorkin'),\n",
       " ({'contact': True, 'ece': True, 'depart': True}, 'timings'),\n",
       " ({'prof': True, 'ivan': True}, 'Department-Head'),\n",
       " ({'email': True, 'prof': True, 'righetti': True}, 'Ludovic-Righetti'),\n",
       " ({'professor': True, 'sundeep': True, 'offic': True, 'hour': True},\n",
       "  'Sundeep-Rangan'),\n",
       " ({'contact': True}, 'Contact-Department'),\n",
       " ({'hey': True, 'hi': True}, 'Greetings'),\n",
       " ({'meet': True, 'prof': True, 'ivan': True}, 'Department-Head')]"
      ]
     },
     "execution_count": 38,
     "metadata": {},
     "output_type": "execute_result"
    }
   ],
   "source": [
    "training_data"
   ]
  },
  {
   "cell_type": "code",
   "execution_count": 39,
   "metadata": {},
   "outputs": [],
   "source": [
    "# save the data\n",
    "np.save('training_data', training_data)\n",
    "np.save('test_data', test_data)"
   ]
  },
  {
   "cell_type": "markdown",
   "metadata": {},
   "source": [
    "## Classification using Decision tree"
   ]
  },
  {
   "cell_type": "markdown",
   "metadata": {},
   "source": [
    "It works by creating a structure where each node corresponds to feature name and branches correspond to feature values. Tracing down the branches, you get to the leaves of the tree which are nothing but the classification Labels. "
   ]
  },
  {
   "cell_type": "code",
   "execution_count": 40,
   "metadata": {},
   "outputs": [],
   "source": [
    "training_data = np.load('training_data.npy',allow_pickle = True )\n",
    "test_data = np.load('test_data.npy',allow_pickle = True)"
   ]
  },
  {
   "cell_type": "code",
   "execution_count": 41,
   "metadata": {},
   "outputs": [],
   "source": [
    "def train_using_decision_tree(training_data, test_data):\n",
    "    \n",
    "    classifier = nltk.classify.DecisionTreeClassifier.train(training_data, entropy_cutoff=0.6, support_cutoff=6)\n",
    "    classifier_name = type(classifier).__name__\n",
    "    training_set_accuracy = nltk.classify.accuracy(classifier, training_data)\n",
    "    print('training set accuracy: ', training_set_accuracy)\n",
    "    test_set_accuracy = nltk.classify.accuracy(classifier, test_data)\n",
    "    print('test set accuracy: ', test_set_accuracy)\n",
    "    return classifier, classifier_name, test_set_accuracy, training_set_accuracy"
   ]
  },
  {
   "cell_type": "code",
   "execution_count": 42,
   "metadata": {},
   "outputs": [
    {
     "name": "stdout",
     "output_type": "stream",
     "text": [
      "training set accuracy:  0.9642857142857143\n",
      "test set accuracy:  0.7142857142857143\n"
     ]
    }
   ],
   "source": [
    "dtclassifier, classifier_name, test_set_accuracy, training_set_accuracy = train_using_decision_tree(training_data, test_data)"
   ]
  },
  {
   "cell_type": "markdown",
   "metadata": {},
   "source": [
    "## Classification using Naive Bayes"
   ]
  },
  {
   "cell_type": "markdown",
   "metadata": {},
   "source": [
    "Naive Bayes classifiers are a family of simple \"probabilistic classifiers\" based on applying Bayes' theorem with strong independence assumptions between the features. They are among the simplest Bayesian network models, but coupled with Kernel density estimation, they can achieve higher accuracy levels and it is evident here."
   ]
  },
  {
   "cell_type": "code",
   "execution_count": 43,
   "metadata": {},
   "outputs": [],
   "source": [
    "def train_using_naive_bayes(training_data, test_data):\n",
    "    classifier = nltk.NaiveBayesClassifier.train(training_data)\n",
    "    classifier_name = type(classifier).__name__\n",
    "    training_set_accuracy = nltk.classify.accuracy(classifier, training_data)\n",
    "    test_set_accuracy = nltk.classify.accuracy(classifier, test_data)\n",
    "    return classifier, classifier_name, test_set_accuracy, training_set_accuracy"
   ]
  },
  {
   "cell_type": "code",
   "execution_count": 44,
   "metadata": {},
   "outputs": [
    {
     "name": "stdout",
     "output_type": "stream",
     "text": [
      "0.9761904761904762\n",
      "0.8214285714285714\n",
      "80\n",
      "Most Informative Features\n",
      "                 contact = True           timing : Depart =      7.5 : 1.0\n",
      "                    yuri = None           Ludovi : Yury-D =      5.4 : 1.0\n",
      "                   ludov = None           Depart : Ludovi =      4.4 : 1.0\n",
      "                    ivan = None           Ludovi : Depart =      4.2 : 1.0\n",
      "                    help = True             Help : Closin =      4.1 : 1.0\n",
      "                 sundeep = None           Ludovi : Sundee =      3.3 : 1.0\n",
      "                  depart = None           Ludovi : Locati =      3.2 : 1.0\n",
      "                  depart = True           timing : Depart =      3.2 : 1.0\n",
      "                   hello = None           Ludovi : Greeti =      2.7 : 1.0\n",
      "                   thank = None           Ludovi : Closin =      2.7 : 1.0\n"
     ]
    }
   ],
   "source": [
    "classifier, classifier_name, test_set_accuracy, training_set_accuracy = train_using_naive_bayes(training_data, test_data)\n",
    "print(training_set_accuracy)\n",
    "print(test_set_accuracy)\n",
    "print(len(classifier.most_informative_features()))\n",
    "classifier.show_most_informative_features()"
   ]
  },
  {
   "cell_type": "code",
   "execution_count": 45,
   "metadata": {},
   "outputs": [
    {
     "data": {
      "text/plain": [
       "'Department-Head'"
      ]
     },
     "execution_count": 45,
     "metadata": {},
     "output_type": "execute_result"
    }
   ],
   "source": [
    "classifier.classify(({'head': True, 'depart': True, 'seles': True}))"
   ]
  },
  {
   "cell_type": "code",
   "execution_count": 46,
   "metadata": {},
   "outputs": [
    {
     "data": {
      "text/plain": [
       "['hello']"
      ]
     },
     "execution_count": 46,
     "metadata": {},
     "output_type": "execute_result"
    }
   ],
   "source": [
    "extract_feature(\"hello\")"
   ]
  },
  {
   "cell_type": "code",
   "execution_count": 47,
   "metadata": {},
   "outputs": [
    {
     "data": {
      "text/plain": [
       "{'hello': True}"
      ]
     },
     "execution_count": 47,
     "metadata": {},
     "output_type": "execute_result"
    }
   ],
   "source": [
    "word_feats(extract_feature(\"hello\"))"
   ]
  },
  {
   "cell_type": "code",
   "execution_count": 48,
   "metadata": {},
   "outputs": [
    {
     "data": {
      "text/plain": [
       "'Sundeep-Rangan'"
      ]
     },
     "execution_count": 48,
     "metadata": {},
     "output_type": "execute_result"
    }
   ],
   "source": [
    "input_sentence = \"Contact professor Sundeep\"\n",
    "classifier.classify(word_feats(extract_feature(input_sentence)))"
   ]
  },
  {
   "cell_type": "code",
   "execution_count": 49,
   "metadata": {},
   "outputs": [],
   "source": [
    "def reply(input_sentence):\n",
    "    category = dtclassifier.classify(word_feats(extract_feature(input_sentence)))\n",
    "    return answers[category]\n",
    "    \n",
    "    "
   ]
  },
  {
   "cell_type": "markdown",
   "metadata": {},
   "source": [
    "# Test:"
   ]
  },
  {
   "cell_type": "code",
   "execution_count": 50,
   "metadata": {},
   "outputs": [
    {
     "data": {
      "text/plain": [
       "'Hello. I am Bobcat. Greeting For the day! I will serve your NYU-Tandon ECE department enquiries.'"
      ]
     },
     "execution_count": 50,
     "metadata": {},
     "output_type": "execute_result"
    }
   ],
   "source": [
    "reply('Hi')"
   ]
  },
  {
   "cell_type": "code",
   "execution_count": 51,
   "metadata": {},
   "outputs": [
    {
     "data": {
      "text/plain": [
       "'Prof. Sundeep Rangan is an Associate Professor and director at NYU Wireless. You can find more details on him at: https://wireless.engineering.nyu.edu/sundeep-rangan/'"
      ]
     },
     "execution_count": 51,
     "metadata": {},
     "output_type": "execute_result"
    }
   ],
   "source": [
    "reply('Contact professor Sundeep')"
   ]
  },
  {
   "cell_type": "code",
   "execution_count": 52,
   "metadata": {},
   "outputs": [
    {
     "data": {
      "text/plain": [
       "'Prof.Ludovic Righetti is an Associate Professor in the ECE & MAE Department and, a Senior Researcher at the Max-Planck Institute for Intelligent Systems (MPI-IS).  You can find more details on him at: https://wp.nyu.edu/machinesinmotion/'"
      ]
     },
     "execution_count": 52,
     "metadata": {},
     "output_type": "execute_result"
    }
   ],
   "source": [
    "reply('Which room does professor Ludovic occupy')"
   ]
  },
  {
   "cell_type": "code",
   "execution_count": 53,
   "metadata": {},
   "outputs": [
    {
     "data": {
      "text/plain": [
       "'The ECE Department located is on the 8th Floor at 370 Jay Street & 2nd Floor at 5 Metrotech Center.'"
      ]
     },
     "execution_count": 53,
     "metadata": {},
     "output_type": "execute_result"
    }
   ],
   "source": [
    "reply('What is location of ECE department?')"
   ]
  },
  {
   "cell_type": "code",
   "execution_count": 54,
   "metadata": {},
   "outputs": [
    {
     "data": {
      "text/plain": [
       "'You can contact department virtually via by calling - 646-997-3878'"
      ]
     },
     "execution_count": 54,
     "metadata": {},
     "output_type": "execute_result"
    }
   ],
   "source": [
    "reply('how to contact the department?')"
   ]
  },
  {
   "cell_type": "code",
   "execution_count": 55,
   "metadata": {},
   "outputs": [
    {
     "data": {
      "text/plain": [
       "'Prof. Ivan Selesnick is the Head of ECE Department. You can find more details on him at: https://eeweb.engineering.nyu.edu/iselesni/'"
      ]
     },
     "execution_count": 55,
     "metadata": {},
     "output_type": "execute_result"
    }
   ],
   "source": [
    "reply('Who is the department head?')"
   ]
  },
  {
   "cell_type": "code",
   "execution_count": 56,
   "metadata": {},
   "outputs": [
    {
     "data": {
      "text/plain": [
       "'There is always someone to attend you from 9am till 5pm.'"
      ]
     },
     "execution_count": 56,
     "metadata": {},
     "output_type": "execute_result"
    }
   ],
   "source": [
    "reply('when can I contact ECE department?')"
   ]
  },
  {
   "cell_type": "code",
   "execution_count": 57,
   "metadata": {},
   "outputs": [
    {
     "data": {
      "text/plain": [
       "\"It's glad to know that I have been helpful. Have a good day!\""
      ]
     },
     "execution_count": 57,
     "metadata": {},
     "output_type": "execute_result"
    }
   ],
   "source": [
    "reply('Thanks!')"
   ]
  },
  {
   "cell_type": "code",
   "execution_count": 58,
   "metadata": {},
   "outputs": [
    {
     "data": {
      "text/plain": [
       "'Prof. Sundeep Rangan is an Associate Professor and director at NYU Wireless. You can find more details on him at: https://wireless.engineering.nyu.edu/sundeep-rangan/'"
      ]
     },
     "execution_count": 58,
     "metadata": {},
     "output_type": "execute_result"
    }
   ],
   "source": [
    "reply('What couses does Prof Sundeep Rangan teaches and how can I contact him ?')"
   ]
  },
  {
   "cell_type": "markdown",
   "metadata": {},
   "source": [
    "# Conclusion:"
   ]
  },
  {
   "cell_type": "markdown",
   "metadata": {},
   "source": [
    "Once the model has been developed using an algorithm that gives an acceptable accuracy, this model can be called using to any chatbot UI framework after developing a constructive dataset."
   ]
  }
 ],
 "metadata": {
  "kernelspec": {
   "display_name": "Python 3 (ipykernel)",
   "language": "python",
   "name": "python3"
  },
  "language_info": {
   "codemirror_mode": {
    "name": "ipython",
    "version": 3
   },
   "file_extension": ".py",
   "mimetype": "text/x-python",
   "name": "python",
   "nbconvert_exporter": "python",
   "pygments_lexer": "ipython3",
   "version": "3.9.12"
  }
 },
 "nbformat": 4,
 "nbformat_minor": 1
}
